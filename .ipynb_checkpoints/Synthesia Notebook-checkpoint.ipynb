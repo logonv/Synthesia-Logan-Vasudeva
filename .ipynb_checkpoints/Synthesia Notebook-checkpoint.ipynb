{
 "cells": [
  {
   "cell_type": "code",
   "execution_count": 1,
   "metadata": {},
   "outputs": [],
   "source": [
    "import re\n",
    "import requests\n",
    "import json\n",
    "import csv\n",
    "import os\n",
    "import time\n",
    "\n",
    "class Error(Exception):\n",
    "    \"\"\"Base class for exceptions in this module.\"\"\"\n",
    "    pass\n",
    "\n",
    "class Api_Post_fail(Error):\n",
    "    \"\"\"Raised when the post to the API fails\"\"\"\n",
    "    def __init__(self,  message='API Post failed'):\n",
    "        self.message = message\n",
    "        super().__init__(self.message)\n",
    "\n",
    "class Api_Get_fail(Error):\n",
    "    \"\"\"Raised when the get to the API fails\"\"\"\n",
    "    def __init__(self,  message='API Get failed'):\n",
    "        self.message = message\n",
    "        super().__init__(self.message)\n",
    "\n",
    "class Api_Request_fail(Error):\n",
    "    \"\"\"Raised when the request to the API fails\"\"\"\n",
    "    def __init__(self,  message='API request failed'):\n",
    "        self.message = message\n",
    "        super().__init__(self.message)"
   ]
  },
  {
   "cell_type": "code",
   "execution_count": 2,
   "metadata": {},
   "outputs": [],
   "source": [
    "input_string='personalise -s \"Hey {name}. I just made my first synthetic video, made with the Synthesia API!\" -b background.jpg -d data.csv -o videos'"
   ]
  },
  {
   "cell_type": "code",
   "execution_count": 3,
   "metadata": {},
   "outputs": [
    {
     "name": "stdout",
     "output_type": "stream",
     "text": [
      "data.csv\n",
      "Hey {name}. I just made my first synthetic video, made with the Synthesia API!\n",
      "background.jpg\n",
      "videos\n",
      "['{name}']\n"
     ]
    }
   ],
   "source": [
    "d_regex=r\"[-d]{1}\\s{1}(\\S+){1}\"\n",
    "data_file_name=re.search(d_regex,input_string).group(1)\n",
    "print(data_file_name)\n",
    "s_regex=r\"[-s]{1}[\\s]{1}[\\'\\\"“”‘’„”«»]{1}((.)+)['\\\"“”‘’„”«»]{1}\"\n",
    "_s=re.search(s_regex,input_string).group(1)\n",
    "print(_s)\n",
    "b_regex=r\"[-b]{1}\\s{1}(\\S+){1}\"\n",
    "background_image_file_name=re.search(b_regex,input_string).group(1)\n",
    "print(background_image_file_name)\n",
    "o_regex=r\"[-o]{1}\\s{1}(\\S+){1}\"\n",
    "directory_to_save_to=re.search(o_regex,input_string).group(1)\n",
    "print(directory_to_save_to)\n",
    "elements_regex=r\"\\{{1}[\\w\\d\\sA-Za-z]+\\}{1}\"\n",
    "elements_to_replace=list(set(re.findall(elements_regex,_s)))\n",
    "print(elements_to_replace)"
   ]
  },
  {
   "cell_type": "code",
   "execution_count": 4,
   "metadata": {},
   "outputs": [
    {
     "name": "stdout",
     "output_type": "stream",
     "text": [
      "[{'id': '1', 'name': 'Jakob'}, {'id': '2', 'name': 'Gregor'}]\n"
     ]
    }
   ],
   "source": [
    "save_directory=os.path.join(os.path.expanduser('~'),directory_to_save_to)\n",
    "if not os.path.isdir(save_directory):\n",
    "    os.mkdir(save_directory)\n",
    "    print('Made directory in home folder')\n",
    "with open(data_file_name) as csv_file:\n",
    "    reader = csv.DictReader(csv_file)\n",
    "    template_inputs_list=[]\n",
    "    for row in reader:\n",
    "        template_inputs_list.append(row)\n",
    "print(template_inputs_list)"
   ]
  },
  {
   "cell_type": "code",
   "execution_count": 5,
   "metadata": {},
   "outputs": [],
   "source": [
    "create_video_dictionary_list=[]\n",
    "for dictionary in template_inputs_list :\n",
    "    script=_s\n",
    "    create_video_dictionary={}\n",
    "    input_dictionary={}\n",
    "    #input_dictionary['actor']='mike_costume1_cameraA'\n",
    "    #input_dictionary['actor']='gloria_costume1_cameraA'\n",
    "    #input_dictionary['actor']= 'sofia_costume2_cameraA'\n",
    "    #input_dictionary['actor']=\"santa_costume2_cameraA\"\n",
    "    #input_dictionary['actor']='nina_costume1_cameraA'\n",
    "    #input_dictionary['actor']='ruby_costume1_cameraA'\n",
    "    input_dictionary['actor']=\"jack_costume1_cameraA\"\n",
    "\n",
    "    input_dictionary['background']='green_screen'\n",
    "    create_video_dictionary['title']=dictionary['id']\n",
    "    for element in elements_to_replace:\n",
    "        element_to_sub=dictionary.get(element[1:-1]) #remove {}\n",
    "        #print(element_to_sub)\n",
    "        if element_to_sub is not None:\n",
    "            script=script.replace(element,element_to_sub)\n",
    "    input_dictionary['script']=script\n",
    "    input_dictionary_list=[]\n",
    "    input_dictionary_list.append(input_dictionary)\n",
    "    create_video_dictionary['input']=input_dictionary_list\n",
    "    create_video_dictionary_list.append(create_video_dictionary)\n",
    "    "
   ]
  },
  {
   "cell_type": "code",
   "execution_count": null,
   "metadata": {},
   "outputs": [],
   "source": [
    "url='https://api.synthesia.io/v1/videos'\n",
    "api_key='525c0648e66de982ffa6d37000e2f64a'\n",
    "authorization_header={'Authorization': api_key}\n",
    "video_id_list=[]\n",
    "\n",
    "for create_video_dictionary in create_video_dictionary_list:\n",
    "    parameters=create_video_dictionary\n",
    "    video=requests.post(url,json=parameters,headers=authorization_header)\n",
    "    if video.status_code != 201:\n",
    "        raise Api_fail\n",
    "    video_id=video.json()['id']\n",
    "    video_id_list.append(video_id)\n",
    "\n",
    "    "
   ]
  },
  {
   "cell_type": "code",
   "execution_count": null,
   "metadata": {},
   "outputs": [],
   "source": [
    "video_id_list_copy=video_id_list[:]\n",
    "time_delay=10\n",
    "while True:\n",
    "    for video_id in video_id_list_copy:\n",
    "        requests_url=url+'/'+video_id\n",
    "        request=requests.get(requests_url,headers=authorization_header)\n",
    "        if request.status_code !=200:\n",
    "            raise Api_Request_fail   \n",
    "        request_status=request.json()['status']\n",
    "        print(video_id+' production not complete')\n",
    "        print('Waiting {} seconds before trying again. Will move onto next video if still not complete (and try again later).'.format(time_delay))\n",
    "        time.sleep(time_delay) #so it doesn't hit rate limit \n",
    "        if request_status == 'COMPLETE':\n",
    "            print(video_id+' production complete')\n",
    "            download_link=request.json()['download']\n",
    "            video_title=request.json()['title']\n",
    "            file_name=video_title+'_green.mp4'\n",
    "            download=requests.get(download_link)\n",
    "            save_path=os.path.join(save_directory,file_name)\n",
    "            if os.path.isfile(save_path):\n",
    "                overwrite_file_check=input(\"Overwrite file? Type Y to continue\\n\").lower()\n",
    "                if overwrite_file_check=='y':\n",
    "                    with open(save_path, 'wb') as f:\n",
    "                        f.write(download.content)\n",
    "                        print('File downloaded and saved')\n",
    "                else:\n",
    "                    print('File not downloaded')\n",
    "            else:\n",
    "                with open(save_path, 'wb') as f:\n",
    "                    f.write(download.content)\n",
    "                    print('File downloaded and saved')\n",
    "            video_id_list.remove(video_id)        \n",
    "    video_id_list_copy=video_id_list[:]\n",
    "    if video_id_list==[]:\n",
    "        break\n",
    "\n",
    "\n",
    "\n",
    "\n",
    "        \n",
    "\n",
    "\n",
    "        "
   ]
  },
  {
   "cell_type": "code",
   "execution_count": null,
   "metadata": {},
   "outputs": [],
   "source": [
    "'ffmpeg -i background.jpg -i 1.mp4 -filter_complex \"[1:v]chromakey=0x2CD788:0.2:0.0[ckout];[0:v][ckout]overlay[o]\" -map [o] -map 1:a output.mp4'\n"
   ]
  },
  {
   "cell_type": "code",
   "execution_count": null,
   "metadata": {},
   "outputs": [],
   "source": [
    "print(f'ffmpeg -i {background_image_file_name} -i {video_title+\"_green.m p4\"} -filter_complex \"[1:v]chromakey=0x2CD788:0.2:0.0[ckout];[0:v][ckout]overlay[o]\" -map [o] -map 1:a {video_title+\".mp4\"}')"
   ]
  },
  {
   "cell_type": "code",
   "execution_count": 14,
   "metadata": {},
   "outputs": [
    {
     "name": "stdout",
     "output_type": "stream",
     "text": [
      "ffmpeg -i background.jpg -i 1_green.m p4 -filter_complex \"[1:v]chromakey=0x2CD788:0.2:0.0[ckout];[0:v][ckout]overlay[o]\" -map [o] -map 1:a 1.mp4\n",
      "ffmpeg -i background.jpg -i 2_green.m p4 -filter_complex \"[1:v]chromakey=0x2CD788:0.2:0.0[ckout];[0:v][ckout]overlay[o]\" -map [o] -map 1:a 2.mp4\n"
     ]
    }
   ],
   "source": [
    "for dictionary in create_video_dictionary_list:\n",
    "    video_title=dictionary['title']\n",
    "    print(f'ffmpeg -i {background_image_file_name} -i {video_title+\"_green.mp4\"} -filter_complex \"[1:v]chromakey=0x2CD788:0.2:0.0[ckout];[0:v][ckout]overlay[o]\" -map [o] -map 1:a {video_title+\".mp4\"}')"
   ]
  },
  {
   "cell_type": "code",
   "execution_count": null,
   "metadata": {},
   "outputs": [],
   "source": [
    "create_video_dictionary_list[]"
   ]
  },
  {
   "cell_type": "code",
   "execution_count": null,
   "metadata": {},
   "outputs": [],
   "source": [
    "video_title"
   ]
  },
  {
   "cell_type": "code",
   "execution_count": null,
   "metadata": {},
   "outputs": [],
   "source": [
    "print(f'ffmpeg -i {background_image_file_name} -i {video_title} -filter_complex  ')"
   ]
  },
  {
   "cell_type": "code",
   "execution_count": 15,
   "metadata": {},
   "outputs": [],
   "source": [
    "import shutil"
   ]
  },
  {
   "cell_type": "code",
   "execution_count": 21,
   "metadata": {},
   "outputs": [
    {
     "data": {
      "text/plain": [
       "'/Users/loganvasudeva/videos/background.jpg'"
      ]
     },
     "execution_count": 21,
     "metadata": {},
     "output_type": "execute_result"
    }
   ],
   "source": [
    "shutil.copy(background_image_file_name,save_directory)"
   ]
  },
  {
   "cell_type": "code",
   "execution_count": 17,
   "metadata": {},
   "outputs": [
    {
     "ename": "FileNotFoundError",
     "evalue": "[Errno 2] No such file or directory: 'background.jpg'",
     "output_type": "error",
     "traceback": [
      "\u001b[0;31m---------------------------------------------------------------------------\u001b[0m",
      "\u001b[0;31mFileNotFoundError\u001b[0m                         Traceback (most recent call last)",
      "\u001b[0;32m<ipython-input-17-da01d98d9bf9>\u001b[0m in \u001b[0;36m<module>\u001b[0;34m\u001b[0m\n\u001b[0;32m----> 1\u001b[0;31m \u001b[0;32mwith\u001b[0m \u001b[0mopen\u001b[0m\u001b[0;34m(\u001b[0m\u001b[0mbackground_image_file_name\u001b[0m\u001b[0;34m)\u001b[0m \u001b[0;32mas\u001b[0m \u001b[0mf\u001b[0m\u001b[0;34m:\u001b[0m\u001b[0;34m\u001b[0m\u001b[0;34m\u001b[0m\u001b[0m\n\u001b[0m\u001b[1;32m      2\u001b[0m     \u001b[0;32mpass\u001b[0m\u001b[0;34m\u001b[0m\u001b[0;34m\u001b[0m\u001b[0m\n",
      "\u001b[0;31mFileNotFoundError\u001b[0m: [Errno 2] No such file or directory: 'background.jpg'"
     ]
    }
   ],
   "source": [
    "with open(background_image_file_name) as f:\n",
    "    pass"
   ]
  },
  {
   "cell_type": "code",
   "execution_count": 19,
   "metadata": {},
   "outputs": [
    {
     "name": "stdout",
     "output_type": "stream",
     "text": [
      "README.md                 background.jpg            script.py\r\n",
      "Synthesia Notebook.ipynb  data.csv\r\n"
     ]
    }
   ],
   "source": [
    "%ls"
   ]
  },
  {
   "cell_type": "code",
   "execution_count": null,
   "metadata": {},
   "outputs": [],
   "source": []
  }
 ],
 "metadata": {
  "kernelspec": {
   "display_name": "Python 3",
   "language": "python",
   "name": "python3"
  },
  "language_info": {
   "codemirror_mode": {
    "name": "ipython",
    "version": 3
   },
   "file_extension": ".py",
   "mimetype": "text/x-python",
   "name": "python",
   "nbconvert_exporter": "python",
   "pygments_lexer": "ipython3",
   "version": "3.8.3"
  }
 },
 "nbformat": 4,
 "nbformat_minor": 4
}
